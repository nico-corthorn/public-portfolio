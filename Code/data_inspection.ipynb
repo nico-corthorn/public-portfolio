{
 "cells": [
  {
   "cell_type": "code",
   "execution_count": 8,
   "metadata": {},
   "outputs": [],
   "source": [
    "import json\n",
    "import managerSQL\n",
    "import matplotlib.pyplot as plt"
   ]
  },
  {
   "cell_type": "code",
   "execution_count": 2,
   "metadata": {},
   "outputs": [],
   "source": [
    "# Config\n",
    "with open('config.json') as json_file:\n",
    "        params = json.load(json_file)"
   ]
  },
  {
   "cell_type": "code",
   "execution_count": 3,
   "metadata": {},
   "outputs": [],
   "source": [
    "# Database connection\n",
    "sql_manager = managerSQL.ManagerSQL(params['db'])"
   ]
  },
  {
   "cell_type": "code",
   "execution_count": 18,
   "metadata": {},
   "outputs": [],
   "source": [
    "# Careful, considerable amount of RAM memomry needed when db is complete\n",
    "data = sql_manager.select('reg_factors')"
   ]
  },
  {
   "cell_type": "code",
   "execution_count": 6,
   "metadata": {},
   "outputs": [],
   "source": [
    "symbols = sql_manager.select_distinct_column_list('symbol', 'symbols')"
   ]
  },
  {
   "cell_type": "code",
   "execution_count": 8,
   "metadata": {},
   "outputs": [],
   "source": [
    "symbols_fund = sql_manager.select_distinct_column_list('symbol', 'prices_fundamentals')"
   ]
  },
  {
   "cell_type": "code",
   "execution_count": 10,
   "metadata": {},
   "outputs": [],
   "source": [
    "general_info = sql_manager.select('symbol_general_info')"
   ]
  },
  {
   "cell_type": "code",
   "execution_count": 12,
   "metadata": {},
   "outputs": [
    {
     "data": {
      "text/html": [
       "<div>\n",
       "<style scoped>\n",
       "    .dataframe tbody tr th:only-of-type {\n",
       "        vertical-align: middle;\n",
       "    }\n",
       "\n",
       "    .dataframe tbody tr th {\n",
       "        vertical-align: top;\n",
       "    }\n",
       "\n",
       "    .dataframe thead th {\n",
       "        text-align: right;\n",
       "    }\n",
       "</style>\n",
       "<table border=\"1\" class=\"dataframe\">\n",
       "  <thead>\n",
       "    <tr style=\"text-align: right;\">\n",
       "      <th></th>\n",
       "      <th>symbol</th>\n",
       "      <th>company_name</th>\n",
       "      <th>countryba</th>\n",
       "      <th>sic</th>\n",
       "      <th>office</th>\n",
       "      <th>industry</th>\n",
       "    </tr>\n",
       "  </thead>\n",
       "  <tbody>\n",
       "    <tr>\n",
       "      <th>0</th>\n",
       "      <td>AA</td>\n",
       "      <td>ALCOA CORP</td>\n",
       "      <td>US</td>\n",
       "      <td>3350.0</td>\n",
       "      <td>Manufacturing</td>\n",
       "      <td>ROLLING DRAWING &amp; EXTRUDING OF NONFERROUS METALS</td>\n",
       "    </tr>\n",
       "    <tr>\n",
       "      <th>1</th>\n",
       "      <td>AAAU</td>\n",
       "      <td>PERTH MINT PHYSICAL GOLD ETF</td>\n",
       "      <td>None</td>\n",
       "      <td>NaN</td>\n",
       "      <td>None</td>\n",
       "      <td>None</td>\n",
       "    </tr>\n",
       "    <tr>\n",
       "      <th>2</th>\n",
       "      <td>AACG</td>\n",
       "      <td>ATA CREATIVITY GLOBAL - ADR</td>\n",
       "      <td>None</td>\n",
       "      <td>NaN</td>\n",
       "      <td>None</td>\n",
       "      <td>None</td>\n",
       "    </tr>\n",
       "    <tr>\n",
       "      <th>3</th>\n",
       "      <td>AADR</td>\n",
       "      <td>ADVISORSHARES DORSEY WRIGHT</td>\n",
       "      <td>None</td>\n",
       "      <td>NaN</td>\n",
       "      <td>None</td>\n",
       "      <td>None</td>\n",
       "    </tr>\n",
       "    <tr>\n",
       "      <th>4</th>\n",
       "      <td>AAL</td>\n",
       "      <td>AMERICAN AIRLINES GROUP INC</td>\n",
       "      <td>US</td>\n",
       "      <td>4512.0</td>\n",
       "      <td>Energy &amp; Transportation</td>\n",
       "      <td>AIR TRANSPORTATION, SCHEDULED</td>\n",
       "    </tr>\n",
       "  </tbody>\n",
       "</table>\n",
       "</div>"
      ],
      "text/plain": [
       "  symbol                  company_name countryba     sic  \\\n",
       "0     AA                    ALCOA CORP        US  3350.0   \n",
       "1   AAAU  PERTH MINT PHYSICAL GOLD ETF      None     NaN   \n",
       "2   AACG   ATA CREATIVITY GLOBAL - ADR      None     NaN   \n",
       "3   AADR   ADVISORSHARES DORSEY WRIGHT      None     NaN   \n",
       "4    AAL   AMERICAN AIRLINES GROUP INC        US  4512.0   \n",
       "\n",
       "                    office                                          industry  \n",
       "0            Manufacturing  ROLLING DRAWING & EXTRUDING OF NONFERROUS METALS  \n",
       "1                     None                                              None  \n",
       "2                     None                                              None  \n",
       "3                     None                                              None  \n",
       "4  Energy & Transportation                     AIR TRANSPORTATION, SCHEDULED  "
      ]
     },
     "execution_count": 12,
     "metadata": {},
     "output_type": "execute_result"
    }
   ],
   "source": [
    "general_info.head()"
   ]
  },
  {
   "cell_type": "code",
   "execution_count": 20,
   "metadata": {},
   "outputs": [
    {
     "data": {
      "text/plain": [
       "<matplotlib.axes._subplots.AxesSubplot at 0x27a97acc8d0>"
      ]
     },
     "execution_count": 20,
     "metadata": {},
     "output_type": "execute_result"
    },
    {
     "data": {
      "image/png": "[encoded data removed]",
      "text/plain": [
       "<Figure size 432x288 with 1 Axes>"
      ]
     },
     "metadata": {
      "needs_background": "light"
     },
     "output_type": "display_data"
    }
   ],
   "source": [
    "# It is essentially US companies\n",
    "general_info[general_info.symbol.isin(symbols_fund)]['countryba'].value_counts().plot.bar()"
   ]
  },
  {
   "cell_type": "code",
   "execution_count": 21,
   "metadata": {},
   "outputs": [
    {
     "data": {
      "text/plain": [
       "<matplotlib.axes._subplots.AxesSubplot at 0x27a98b62e80>"
      ]
     },
     "execution_count": 21,
     "metadata": {},
     "output_type": "execute_result"
    },
    {
     "data": {
      "image/png": "[encoded data removed]",
      "text/plain": [
       "<Figure size 432x288 with 1 Axes>"
      ]
     },
     "metadata": {
      "needs_background": "light"
     },
     "output_type": "display_data"
    }
   ],
   "source": [
    "general_info[general_info.symbol.isin(symbols_fund)]['office'].value_counts().plot.bar()"
   ]
  },
  {
   "cell_type": "code",
   "execution_count": 27,
   "metadata": {},
   "outputs": [
    {
     "data": {
      "text/plain": [
       "\"select * from prices_fundamentals where symbol <= 'ALKS'\""
      ]
     },
     "execution_count": 27,
     "metadata": {},
     "output_type": "execute_result"
    }
   ],
   "source": [
    "query = \"select * from reg_factors where symbol <= '\" + str(symbols_fund[99]) + \"'\"\n",
    "query"
   ]
  },
  {
   "cell_type": "code",
   "execution_count": 28,
   "metadata": {},
   "outputs": [],
   "source": [
    "data = sql_manager.select_query(query)"
   ]
  },
  {
   "cell_type": "code",
   "execution_count": 7,
   "metadata": {},
   "outputs": [
    {
     "data": {
      "text/html": [
       "<div>\n",
       "<style scoped>\n",
       "    .dataframe tbody tr th:only-of-type {\n",
       "        vertical-align: middle;\n",
       "    }\n",
       "\n",
       "    .dataframe tbody tr th {\n",
       "        vertical-align: top;\n",
       "    }\n",
       "\n",
       "    .dataframe thead th {\n",
       "        text-align: right;\n",
       "    }\n",
       "</style>\n",
       "<table border=\"1\" class=\"dataframe\">\n",
       "  <thead>\n",
       "    <tr style=\"text-align: right;\">\n",
       "      <th></th>\n",
       "      <th>symbol</th>\n",
       "      <th>date</th>\n",
       "      <th>ret</th>\n",
       "      <th>equity</th>\n",
       "      <th>mcap</th>\n",
       "      <th>pb</th>\n",
       "      <th>mom</th>\n",
       "    </tr>\n",
       "  </thead>\n",
       "  <tbody>\n",
       "    <tr>\n",
       "      <th>0</th>\n",
       "      <td>AA</td>\n",
       "      <td>2017-10-31</td>\n",
       "      <td>0.007563</td>\n",
       "      <td>5948000</td>\n",
       "      <td>21118760</td>\n",
       "      <td>3.550565</td>\n",
       "      <td>0.745629</td>\n",
       "    </tr>\n",
       "    <tr>\n",
       "      <th>1</th>\n",
       "      <td>AA</td>\n",
       "      <td>2017-11-01</td>\n",
       "      <td>-0.001676</td>\n",
       "      <td>5948000</td>\n",
       "      <td>21083400</td>\n",
       "      <td>3.544620</td>\n",
       "      <td>0.741249</td>\n",
       "    </tr>\n",
       "    <tr>\n",
       "      <th>2</th>\n",
       "      <td>AA</td>\n",
       "      <td>2017-11-02</td>\n",
       "      <td>-0.005044</td>\n",
       "      <td>5948000</td>\n",
       "      <td>20977320</td>\n",
       "      <td>3.526785</td>\n",
       "      <td>0.695430</td>\n",
       "    </tr>\n",
       "    <tr>\n",
       "      <th>3</th>\n",
       "      <td>AA</td>\n",
       "      <td>2017-11-03</td>\n",
       "      <td>-0.007190</td>\n",
       "      <td>5948000</td>\n",
       "      <td>20827040</td>\n",
       "      <td>3.501520</td>\n",
       "      <td>0.637253</td>\n",
       "    </tr>\n",
       "    <tr>\n",
       "      <th>4</th>\n",
       "      <td>AA</td>\n",
       "      <td>2017-11-06</td>\n",
       "      <td>0.003601</td>\n",
       "      <td>5948000</td>\n",
       "      <td>20902180</td>\n",
       "      <td>3.514153</td>\n",
       "      <td>0.633160</td>\n",
       "    </tr>\n",
       "  </tbody>\n",
       "</table>\n",
       "</div>"
      ],
      "text/plain": [
       "  symbol        date       ret   equity      mcap        pb       mom\n",
       "0     AA  2017-10-31  0.007563  5948000  21118760  3.550565  0.745629\n",
       "1     AA  2017-11-01 -0.001676  5948000  21083400  3.544620  0.741249\n",
       "2     AA  2017-11-02 -0.005044  5948000  20977320  3.526785  0.695430\n",
       "3     AA  2017-11-03 -0.007190  5948000  20827040  3.501520  0.637253\n",
       "4     AA  2017-11-06  0.003601  5948000  20902180  3.514153  0.633160"
      ]
     },
     "execution_count": 7,
     "metadata": {},
     "output_type": "execute_result"
    }
   ],
   "source": [
    "data.head()"
   ]
  },
  {
   "cell_type": "code",
   "execution_count": 28,
   "metadata": {},
   "outputs": [
    {
     "data": {
      "image/png": "[encoded data removed]",
      "text/plain": [
       "<Figure size 432x288 with 1 Axes>"
      ]
     },
     "metadata": {
      "needs_background": "light"
     },
     "output_type": "display_data"
    }
   ],
   "source": [
    "plt.hist(data.ret, bins=500)\n",
    "plt.xlim(-0.5, 0.5)\n",
    "plt.show()"
   ]
  },
  {
   "cell_type": "markdown",
   "metadata": {},
   "source": [
    "Fat-tailed. Doesn't look really skewed."
   ]
  },
  {
   "cell_type": "code",
   "execution_count": 29,
   "metadata": {},
   "outputs": [
    {
     "data": {
      "text/plain": [
       "(-2.3025851, 2.4079456)"
      ]
     },
     "execution_count": 29,
     "metadata": {},
     "output_type": "execute_result"
    }
   ],
   "source": [
    "data.ret.min(), data.ret.max()"
   ]
  },
  {
   "cell_type": "code",
   "execution_count": null,
   "metadata": {},
   "outputs": [],
   "source": []
  },
  {
   "cell_type": "code",
   "execution_count": null,
   "metadata": {},
   "outputs": [],
   "source": []
  }
 ],
 "metadata": {
  "kernelspec": {
   "display_name": "Python 3",
   "language": "python",
   "name": "python3"
  },
  "language_info": {
   "codemirror_mode": {
    "name": "ipython",
    "version": 3
   },
   "file_extension": ".py",
   "mimetype": "text/x-python",
   "name": "python",
   "nbconvert_exporter": "python",
   "pygments_lexer": "ipython3",
   "version": "3.6.8"
  }
 },
 "nbformat": 4,
 "nbformat_minor": 2
}
